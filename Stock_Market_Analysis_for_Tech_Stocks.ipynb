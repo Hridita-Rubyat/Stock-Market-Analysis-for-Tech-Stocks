{
  "nbformat": 4,
  "nbformat_minor": 0,
  "metadata": {
    "colab": {
      "provenance": []
    },
    "kernelspec": {
      "name": "python3",
      "display_name": "Python 3"
    },
    "language_info": {
      "name": "python"
    }
  },
  "cells": [
    {
      "cell_type": "markdown",
      "source": [
        "# **Stock Market Analysis for Tech Stocks**\n",
        "\n"
      ],
      "metadata": {
        "id": "c48hx78vKdzY"
      }
    },
    {
      "cell_type": "markdown",
      "source": [
        "**1. Data Source and Scope of Data:**\n",
        "We had begun with a dataset containing historical daily prices for only 1 year for all tickers (companies) in **Mega, Large, Mid and Small cap** currently trading on S&P 500(stock prices of the 500 largest publicly traded companies in the United States).\n",
        "\n",
        "Realizing that,\n",
        "1. At least 5-10 years of data is needed to find any trends and seasonality patterns in the\n",
        "behavior of the stock, and\n",
        "2. for now, assuming that the value of one stock is independent from the value and behavior of stock of any other ticker in the same cap and category,\n",
        "\n",
        "We have limited the dataset to contain data for only **company: Microsoft** for our EDA and modelling for now. To be able to find the trends and seasonality patterns we have increased the scope of data to the last 10 years. The same EDA and modelling techniques can be applied to other Technology category stocks and used for a comparison and recommendation system as mentioned in our initial proposal.\n"
      ],
      "metadata": {
        "id": "aVpkBxdYKOnm"
      }
    },
    {
      "cell_type": "markdown",
      "source": [
        "## **2. Strategy:**\n",
        "Since stocks data is a time series, we are using a combination of **data engineering, feature engineering, machine learning, and hyperparameter optimization techniques.**\n",
        "1. Data collection and exploration\n",
        "2. Data preprocessing\n",
        "3. Feature Engineering, augmentation, and selection\n",
        "4. Model Performance evaluation and improvement\n",
        "5. Model comparison\n"
      ],
      "metadata": {
        "id": "qUoIJZVjK3QG"
      }
    },
    {
      "cell_type": "markdown",
      "source": [
        "## **3. Data Source**:\n",
        "\n",
        "We collected the data from YahooFinance using yfinance python library for ticker ‘MSFT’.\n",
        "\n",
        "**Data Definition**:\n",
        "\n",
        "\n",
        "**Columns and Description**\n",
        "\n",
        "---\n",
        "\n",
        "\n",
        "* Symbol:     Symbol using which a company is represented. Since we are only doing our analysis on Microsoft, the value is “MSFT”\n",
        "* Date:       This column typically represents the date and/or time of the data point.Our data spans from 1st March, 2014 to 31st March, 2024.\n",
        "* Open:       The opening price of the stock for the given date/time.\n",
        "* Low:        The lowest price the stock reached during the trading day.\n",
        "* High:       The highest price the stock reached during the trading day.\n",
        "* Close:      The closing price of the stock for the given date/time.\n",
        "* Adj Close:  The adjusted closing price, which accounts for corporate actions such as dividends, stock splits, and mergers.\n",
        "* Volume:     The number of shares traded during the trading day.\n"
      ],
      "metadata": {
        "id": "wksXZIrTK-gw"
      }
    },
    {
      "cell_type": "markdown",
      "source": [
        "## **4. EDA and Data Preprocessing:**\n",
        "\n",
        "* **1) Missing Values:** No missing values were found.\n",
        "* **2) Data Types:** The date column was an object. We changed the datatype to date with format ‘%Y-%m-%d’.\n",
        "* **3) Outliers:** No outliers were found in the data as depicted in the time series plot below. We will use “Close” column for our analysis.\n",
        "* **4) Checking for duplicates:** No duplicates were found.\n"
      ],
      "metadata": {
        "id": "cC_9S3DzLKSC"
      }
    },
    {
      "cell_type": "markdown",
      "source": [
        "## **5. Feature Engineering:**\n",
        "We have added features in the dataset for various periods of time: 14, 30, 50 and 200 days.\n",
        "\n",
        "* **a. Moving average:** We are using exponential moving average.\n",
        "* **b. Relative Strength Index or RSI:** Used to assess the strength or weakness of a stock's price movements over a specified period.\n",
        "* **c. 1 day volume change:** Percent change of volume from the previous 1 day.\n",
        "* **d. 7-day future close:** Future close price of the stock by shifting the 'Adj Close' column 7 rows (days) into the future using .shift(-7).\n",
        "* **e. 7-day future close percentage change (7d_close_future_pct):** percentage change in the future close price ('7d_future_close') compared to the close price 7 days ago.\n"
      ],
      "metadata": {
        "id": "_jCBV4WRLNdy"
      }
    },
    {
      "cell_type": "markdown",
      "source": [
        "## **6. Models:**\n",
        "\n",
        "* **1) Random Forest:**\n",
        "\n",
        "Target Variable: 7d_close_future_pct\n",
        "Goal: To predict the % change in the price of the stock 7 days ahead into the future.\n",
        "Results: The test score gave a negative number for R-squared. This indicates that the model performs worse than a horizontal regression line fitted to the data.\n",
        "Bagging model performs slightly better but is still not robust enough.\n",
        "* **2) LSTM:**\n",
        "Target Variable: Close (closing price for the given day)\n",
        "Goal: To predict the closing price for the given day looking at past 60 days)\n",
        "We scaled the data and used a sequence length of 60 i.e., used 60 days data to process at once.\n",
        "* **3) Time Series Analysis:**\n",
        "Target Variable: Close (closing price for the given day)\n",
        "Goal: To predict the closing price for the given day looking at past 60 days.Seasonality has been implemented for 14 days and 30 days periods.Moving averages, trend and seasonality are used to run regression time seriesanalysis.\n",
        "* **4) Explore Arima model:** For Time series.\n"
      ],
      "metadata": {
        "id": "BbEoB0BcLQhb"
      }
    },
    {
      "cell_type": "code",
      "source": [
        "#Import libraries here\n",
        "import pandas as pd\n",
        "import matplotlib.pyplot as plt\n",
        "import statsmodels.api as sm\n",
        "import numpy as np\n",
        "from statsmodels.tsa.seasonal import seasonal_decompose\n",
        "from statsmodels.graphics.tsaplots import plot_acf, plot_pacf\n",
        "from statsmodels.tsa.stattools import adfuller\n",
        "from statsmodels.tsa.arima.model import ARIMA"
      ],
      "metadata": {
        "id": "CL_qI9v0-mQe"
      },
      "execution_count": null,
      "outputs": []
    },
    {
      "cell_type": "code",
      "execution_count": null,
      "metadata": {
        "id": "FNmh8pZ89QKm"
      },
      "outputs": [],
      "source": [
        "#Import google drive\n",
        "from google.colab import drive\n",
        "drive.mount('/content/drive')"
      ]
    },
    {
      "cell_type": "code",
      "source": [
        "#Go to the directory where the files are present\n",
        "%cd /content/drive/My Drive/6211_stock_project"
      ],
      "metadata": {
        "id": "QlNICeen-dVm"
      },
      "execution_count": null,
      "outputs": []
    },
    {
      "cell_type": "code",
      "source": [
        "#Load data from csv files to dataframes\n",
        "df_large = pd.read_csv('large-cap-stocks-stocks-1y-test.csv', sep = '|')\n",
        "df_small = pd.read_csv('small-cap-stocks-stocks-1y-test.csv', sep = '|')\n",
        "df_mid = pd.read_csv('mid-cap-stocks-stocks-1y-test.csv', sep = '|')\n",
        "df_mega = pd.read_csv('megacap-stocks-stocks-1y-test.csv', sep = '|')"
      ],
      "metadata": {
        "id": "hHTeGI-H-p5O"
      },
      "execution_count": null,
      "outputs": []
    },
    {
      "cell_type": "code",
      "source": [
        "#viewing df_large dataset\n",
        "df_large.head()"
      ],
      "metadata": {
        "id": "OBfaBiXs9LVq"
      },
      "execution_count": null,
      "outputs": []
    },
    {
      "cell_type": "code",
      "source": [
        "#how many unique values are in df_small['Symbol']?\n",
        "unique_symbols = df_small['Symbol'].unique()\n",
        "print(unique_symbols)"
      ],
      "metadata": {
        "id": "KjH34i3S90mD"
      },
      "execution_count": null,
      "outputs": []
    },
    {
      "cell_type": "code",
      "source": [
        "# Concatenate the 4 dataframes into a stocks dataframe\n",
        "stocks = pd.concat([df_small, df_mid, df_large, df_mega],ignore_index=True)"
      ],
      "metadata": {
        "id": "CvXjmaap_qSV"
      },
      "execution_count": null,
      "outputs": []
    },
    {
      "cell_type": "code",
      "source": [
        "#Cheching for missing values in columns\n",
        "stocks.isna().sum()"
      ],
      "metadata": {
        "id": "oPgDwcLJCKM9"
      },
      "execution_count": null,
      "outputs": []
    },
    {
      "cell_type": "code",
      "source": [
        "# View details of stocks dataframe\n",
        "stocks.info()"
      ],
      "metadata": {
        "id": "EBD1CqlEd7Uh"
      },
      "execution_count": null,
      "outputs": []
    },
    {
      "cell_type": "code",
      "source": [
        "stocks.duplicated().sum()"
      ],
      "metadata": {
        "id": "bpkjqJLLObpo"
      },
      "execution_count": null,
      "outputs": []
    },
    {
      "cell_type": "code",
      "source": [
        "# We see that the Symbol column in empty for some rows. Drop rows with null values from the stocks DataFrame.\n",
        "stocks = stocks.dropna(subset=[\"Symbol\"])\n",
        "print(stocks.isna().mean()*100)"
      ],
      "metadata": {
        "id": "bEo3AnlCjHKI"
      },
      "execution_count": null,
      "outputs": []
    },
    {
      "cell_type": "code",
      "source": [
        "# Create a copy of the stocks dataframe\n",
        "stocks_copy = stocks.copy(deep = True)"
      ],
      "metadata": {
        "id": "BYeP7fH7CXMe"
      },
      "execution_count": null,
      "outputs": []
    },
    {
      "cell_type": "code",
      "source": [
        "# Change the datatype for Date column to Date\n",
        "try:\n",
        "    stocks_copy['Date'] = pd.to_datetime(stocks_copy['Date'], format='%Y-%m-%d')\n",
        "except Exception as e:\n",
        "    print(f\"Error: {e}\")\n",
        "\n",
        "stocks_copy.info()"
      ],
      "metadata": {
        "id": "1RzKSMh6DUiu"
      },
      "execution_count": null,
      "outputs": []
    },
    {
      "cell_type": "code",
      "source": [
        "# View data\n",
        "stocks_copy.head(10)"
      ],
      "metadata": {
        "id": "lDO35-QiCxWc"
      },
      "execution_count": null,
      "outputs": []
    },
    {
      "cell_type": "code",
      "source": [
        "# Inspect the shape of the stocks_copy dataframe\n",
        "stocks_copy.shape"
      ],
      "metadata": {
        "id": "jxeOUr_tvrB_"
      },
      "execution_count": null,
      "outputs": []
    },
    {
      "cell_type": "code",
      "source": [
        "stocks_copy.describe()"
      ],
      "metadata": {
        "id": "656_mV8mRnmK"
      },
      "execution_count": null,
      "outputs": []
    },
    {
      "cell_type": "markdown",
      "source": [
        "Exploratory Data Analysis(for EDA only one company(Microsoft) from the Mega capsize data is taken)."
      ],
      "metadata": {
        "id": "lXS1q0bdC2AY"
      }
    },
    {
      "cell_type": "code",
      "source": [
        "# Filter rows where symbol is 'MSFT'\n",
        "msft_df = stocks_copy[stocks_copy['Symbol'] == 'MSFT']\n",
        "\n",
        "# Sort the filtered DataFrame by 'Date' column in ascending order\n",
        "msft_df = msft_df.sort_values(by='Date', ascending=True)\n",
        "msft_df.reset_index(drop=True, inplace=True)\n",
        "\n",
        "# Display the sorted DataFrame\n",
        "msft_df.head()"
      ],
      "metadata": {
        "id": "XQmqChOGBlAl"
      },
      "execution_count": null,
      "outputs": []
    },
    {
      "cell_type": "code",
      "source": [
        "# Define a function to calculate Exponential Moving Average\n",
        "def exponential_moving_average(prices, period, weighting_factor=0.2):\n",
        "    ema = np.zeros(len(prices))\n",
        "    sma = np.mean(prices[:period])\n",
        "    ema[period - 1] = sma\n",
        "    for i in range(period, len(prices)):\n",
        "        ema[i] = (prices[i] * weighting_factor) + (ema[i - 1] * (1 - weighting_factor))\n",
        "    return ema\n",
        "\n",
        "# Function to determine Relative Strength Index(RSI)\n",
        "def RSI(data, window=14, adjust=False):\n",
        "    delta = data['Close'].diff(1).dropna()\n",
        "    loss = delta.copy()\n",
        "    gains = delta.copy()\n",
        "\n",
        "    gains[gains < 0] = 0\n",
        "    loss[loss > 0] = 0\n",
        "\n",
        "    gain_ewm = gains.ewm(com=window - 1, adjust=adjust).mean()\n",
        "    loss_ewm = abs(loss.ewm(com=window - 1, adjust=adjust).mean())\n",
        "\n",
        "    RS = gain_ewm / loss_ewm\n",
        "    RSI = 100 - 100 / (1 + RS)\n",
        "\n",
        "    return RSI\n",
        "\n",
        "# Define function to calculate the Bollinger Bands\n",
        "def BollingerBands(data, n):\n",
        "    MA = data.Close.rolling(window=n).mean()\n",
        "    SD = data.Close.rolling(window=n).std()\n",
        "    data['MiddleBand'] = MA\n",
        "    data['UpperBand'] = MA + (2 * SD)\n",
        "    data['LowerBand'] = MA - (2 * SD)\n",
        "    return data\n",
        "\n",
        "# Define Gain and Loss functions\n",
        "def gain(x):\n",
        "    return ((x > 0) * x).sum()\n",
        "\n",
        "def loss(x):\n",
        "    return ((x < 0) * x).sum()\n",
        "\n",
        "# Calculate money flow index(MFI)\n",
        "def mfi(high, low, close, volume, n=14):\n",
        "    typical_price = (high + low + close) / 3\n",
        "    money_flow = typical_price * volume\n",
        "    mf_sign = np.where(typical_price > typical_price.shift(1), 1, -1)\n",
        "    signed_mf = money_flow * mf_sign\n",
        "\n",
        "    # Calculate gain and loss using vectorized operations\n",
        "    positive_mf = np.where(signed_mf > 0, signed_mf, 0)\n",
        "    negative_mf = np.where(signed_mf < 0, -signed_mf, 0)\n",
        "\n",
        "    mf_avg_gain = pd.Series(positive_mf).rolling(n, min_periods=1).sum()\n",
        "    mf_avg_loss = pd.Series(negative_mf).rolling(n, min_periods=1).sum()\n",
        "\n",
        "    return (100 - 100 / (1 + mf_avg_gain / mf_avg_loss)).to_numpy()\n",
        "\n",
        "# Function is defined to return ATR values\n",
        "def atr(high, low, close, n=14):\n",
        "    tr = np.amax(np.vstack(((high - low).to_numpy(), (abs(high - close)).to_numpy(), (abs(low - close)).to_numpy())).T, axis=1)\n",
        "    return pd.Series(tr).rolling(n).mean().to_numpy()\n",
        "\n",
        "# Function to calculate ForceIndex\n",
        "def ForceIndex(data, ndays):\n",
        "    FI = pd.Series(data['Close'].diff(ndays) * data['Volume'], name = 'ForceIndex')\n",
        "    data = data.join(FI)\n",
        "    return data\n",
        "\n",
        "# Function defined to return the data frame with Ease of Movement Indicator added to it\n",
        "def EMV(data, ndays):\n",
        "    dm = ((data['High'] + data['Low'])/2) - ((data['High'].shift(1) + data['Low'].shift(1))/2)\n",
        "    br = (data['Volume'] / 100000000) / ((data['High'] - data['Low']))\n",
        "    EMV = dm / br\n",
        "    EMV_MA = pd.Series(EMV.rolling(ndays).mean(), name = 'EMV')\n",
        "    data = data.join(EMV_MA)\n",
        "    return data"
      ],
      "metadata": {
        "id": "MQ2sEGNbDi5U"
      },
      "execution_count": null,
      "outputs": []
    },
    {
      "cell_type": "code",
      "source": [
        "# Calculate Simple Moving Average for 14 days\n",
        "msft_df['SMA14'] = msft_df.groupby('Symbol')['Close'].rolling(window=14).mean().reset_index(level=0, drop=True)\n",
        "\n",
        "# Create a new column in the MSFT dataframe for Exponential Weighted Moving Average for 14 days\n",
        "msft_df['EWMA'] = exponential_moving_average(msft_df['Close'], 14)\n",
        "\n",
        "# Add a column for Relative Strength Index\n",
        "msft_df[\"RSI\"] = RSI(msft_df)\n",
        "\n",
        "# Compute the Bollinger Bands for Google using the 10-day Moving average\n",
        "n = 10\n",
        "BolBands = BollingerBands(msft_df, n)\n",
        "\n",
        "# Add a column with Money Flow Index\n",
        "msft_df['MFI'] = mfi(msft_df['High'], msft_df['Low'], msft_df['Close'], msft_df['Volume'], 14)\n",
        "\n",
        "# Add a column to for ATR\n",
        "msft_df['ATR'] = atr(msft_df['High'], msft_df['Low'], msft_df['Close'], 14)\n",
        "\n",
        "# Add a column to for ForceIndex\n",
        "msft_df = ForceIndex(msft_df,1)\n",
        "\n",
        "# Add a column to for EMV\n",
        "msft_df = EMV(msft_df, 14)\n",
        "\n",
        "msft_df.head(10)"
      ],
      "metadata": {
        "id": "sZv744OsGG-l"
      },
      "execution_count": null,
      "outputs": []
    },
    {
      "cell_type": "code",
      "source": [
        "# Plotting the MSFT stock Price Series chart and Moving Averages below\n",
        "plt.figure(figsize=(10,5))\n",
        "\n",
        "# Set the title and axis labels\n",
        "plt.title('Moving Average')\n",
        "plt.xlabel('Date')\n",
        "plt.ylabel('Price')\n",
        "\n",
        "# Plot close price and moving averages\n",
        "plt.plot(msft_df['Close'],lw=1, label='Close Price')\n",
        "plt.plot(msft_df['SMA14'],'g',lw=1, label='14-day SMA')\n",
        "plt.plot(msft_df['EWMA'],'r', lw=1, label='14-day EWMA')\n",
        "\n",
        "# Add a legend to the axis\n",
        "plt.legend()\n",
        "\n",
        "plt.show()"
      ],
      "metadata": {
        "id": "K_eH4064HKXz"
      },
      "execution_count": null,
      "outputs": []
    },
    {
      "cell_type": "code",
      "source": [
        "# Plotting the MSFT stock Price Series chart and Bollinger Bands\n",
        "plt.figure(figsize=(10,7))\n",
        "\n",
        "# Set the title and axis labels\n",
        "plt.title('Bollinger Bands')\n",
        "plt.xlabel('Date')\n",
        "plt.ylabel('Price')\n",
        "\n",
        "plt.plot(BolBands.Close,lw=1, label='Close Price')\n",
        "plt.plot(msft_df['UpperBand'],'g',lw=1, label='Upper band')\n",
        "plt.plot(msft_df['MiddleBand'],'r',lw=1, label='Middle band')\n",
        "plt.plot(msft_df['LowerBand'],'g', lw=1, label='Lower band')\n",
        "\n",
        "# Add a legend to the axis\n",
        "plt.legend()\n",
        "\n",
        "plt.show()"
      ],
      "metadata": {
        "id": "-uOe9DHwPQtt"
      },
      "execution_count": null,
      "outputs": []
    },
    {
      "cell_type": "code",
      "source": [
        "# Plotting the Price Series chart and the RSI below\n",
        "fig = plt.figure(figsize=(8, 10))\n",
        "\n",
        "# Define position of 1st subplot\n",
        "ax = fig.add_subplot(2, 1, 1)\n",
        "\n",
        "# Set the title and axis labels\n",
        "plt.title('Microsoft Price Chart')\n",
        "plt.xlabel('Date')\n",
        "plt.ylabel('Close Price')\n",
        "\n",
        "plt.plot(msft_df['Close'], label='Close price')\n",
        "\n",
        "# Add a legend to the axis\n",
        "plt.legend()\n",
        "\n",
        "# Define position of 2nd subplot\n",
        "bx = fig.add_subplot(2, 1, 2)\n",
        "\n",
        "# Set the title and axis labels\n",
        "plt.title('Relative Strength Index')\n",
        "plt.xlabel('Date')\n",
        "plt.ylabel('RSI values')\n",
        "\n",
        "plt.plot(msft_df['RSI'], 'm', label='RSI')\n",
        "\n",
        "# Add a legend to the axis\n",
        "plt.legend()\n",
        "\n",
        "plt.tight_layout()\n",
        "plt.show()"
      ],
      "metadata": {
        "id": "dWquh3GsPCt8"
      },
      "execution_count": null,
      "outputs": []
    },
    {
      "cell_type": "code",
      "source": [
        "# Plotting the Price Series chart and the MFI below\n",
        "fig = plt.figure(figsize=(8, 10))\n",
        "\n",
        "# Define position of 1st subplot\n",
        "ax = fig.add_subplot(2, 1, 1)\n",
        "\n",
        "# Set the title and axis labels\n",
        "plt.title('Microsoft Price Chart')\n",
        "plt.xlabel('Date')\n",
        "plt.ylabel('Close Price')\n",
        "\n",
        "plt.plot(msft_df['Close'], label='Close price')\n",
        "\n",
        "# Add a legend to the axis\n",
        "plt.legend()\n",
        "\n",
        "# Define position of 2nd subplot\n",
        "bx = fig.add_subplot(2, 1, 2)\n",
        "\n",
        "# Set the title and axis labels\n",
        "plt.title('Money flow index')\n",
        "plt.xlabel('Date')\n",
        "plt.ylabel('MFI values')\n",
        "\n",
        "plt.plot(msft_df['MFI'], 'm', label='MFI')\n",
        "\n",
        "# Add a legend to the axis\n",
        "plt.legend()\n",
        "\n",
        "plt.tight_layout()\n",
        "plt.show()"
      ],
      "metadata": {
        "id": "u2mVkfLjQWMO"
      },
      "execution_count": null,
      "outputs": []
    },
    {
      "cell_type": "code",
      "source": [
        "# Plotting the Price Series chart and the ATR below\n",
        "fig = plt.figure(figsize=(8, 10))\n",
        "\n",
        "# Define position of 1st subplot\n",
        "ax = fig.add_subplot(2, 1, 1)\n",
        "\n",
        "# Set the title and axis labels\n",
        "plt.title('Microsoft Price Chart')\n",
        "plt.xlabel('Date')\n",
        "plt.ylabel('Close Price')\n",
        "\n",
        "plt.plot(msft_df['Close'], label='Close price')\n",
        "\n",
        "# Add a legend to the axis\n",
        "plt.legend()\n",
        "\n",
        "# Define position of 2nd subplot\n",
        "bx = fig.add_subplot(2, 1, 2)\n",
        "\n",
        "# Set the title and axis labels\n",
        "plt.title('Average True Range')\n",
        "plt.xlabel('Date')\n",
        "plt.ylabel('ATR values')\n",
        "\n",
        "plt.plot(msft_df['ATR'] , 'm', label='ATR')\n",
        "\n",
        "# Add a legend to the axis\n",
        "plt.legend()\n",
        "\n",
        "plt.tight_layout()\n",
        "plt.show()"
      ],
      "metadata": {
        "id": "7kOoztQ-Q0OZ"
      },
      "execution_count": null,
      "outputs": []
    },
    {
      "cell_type": "code",
      "source": [
        "# Plotting the Price Series chart and the ForceIndex below\n",
        "fig = plt.figure(figsize=(8, 10))\n",
        "\n",
        "# Define position of 1st subplot\n",
        "ax = fig.add_subplot(2, 1, 1)\n",
        "\n",
        "# Set the title and axis labels\n",
        "plt.title('Microsoft Price Chart')\n",
        "plt.xlabel('Date')\n",
        "plt.ylabel('Close Price')\n",
        "\n",
        "# Plot the close price of the Apple\n",
        "plt.plot(msft_df['Close'], label='Close price')\n",
        "\n",
        "# Add a legend to the axis\n",
        "plt.legend()\n",
        "\n",
        "# Define position of 2nd subplot\n",
        "bx = fig.add_subplot(2, 1, 2)\n",
        "\n",
        "# Set the title and axis labels\n",
        "plt.title('Force Index Chart')\n",
        "plt.xlabel('Date')\n",
        "plt.ylabel('ForceIndex values')\n",
        "\n",
        "# Plot the ease of movement\n",
        "plt.plot(msft_df['ForceIndex'], 'm', label='ForceIndex')\n",
        "\n",
        "# Add a legend to the axis\n",
        "plt.legend()\n",
        "\n",
        "plt.tight_layout()\n",
        "plt.show()"
      ],
      "metadata": {
        "id": "zId1dcFHRxZE"
      },
      "execution_count": null,
      "outputs": []
    },
    {
      "cell_type": "code",
      "source": [
        "# Plotting the Price Series chart and the Ease Of Movement below\n",
        "fig = plt.figure(figsize=(8, 10))\n",
        "\n",
        "# Define position of 1st subplot\n",
        "ax = fig.add_subplot(2, 1, 1)\n",
        "\n",
        "# Set the title and axis labels\n",
        "plt.title('Microsoft Price Chart')\n",
        "plt.xlabel('Date')\n",
        "plt.ylabel('Close Price')\n",
        "\n",
        "# Plot the close price of the Apple\n",
        "plt.plot(msft_df['Close'], label='Close price')\n",
        "\n",
        "# Add a legend to the axis\n",
        "plt.legend()\n",
        "\n",
        "# Define position of 2nd subplot\n",
        "bx = fig.add_subplot(2, 1, 2)\n",
        "\n",
        "# Set the title and axis labels\n",
        "plt.title('Ease Of Movement Chart')\n",
        "plt.xlabel('Date')\n",
        "plt.ylabel('EMV values')\n",
        "\n",
        "# Plot the ease of movement\n",
        "plt.plot(msft_df['EMV'], 'm', label='EMV(14)')\n",
        "\n",
        "# Add a legend to the axis\n",
        "plt.legend()\n",
        "\n",
        "plt.tight_layout()\n",
        "plt.show()"
      ],
      "metadata": {
        "id": "yHg1b6t5RN88"
      },
      "execution_count": null,
      "outputs": []
    },
    {
      "cell_type": "code",
      "source": [
        "\n",
        "\n",
        "# Sort DataFrame by company name and date\n",
        "stocks_copy.sort_values(by=['Companyname', 'Date'], inplace=True)\n",
        "\n",
        "# Compute the rolling mean with 7 days lag for each company\n",
        "stocks_copy['Moving Avg Adj Close'] = stocks_copy.groupby('Companyname')['Adj Close'].transform(lambda x: x.rolling(window=7).mean())\n",
        "\n",
        "# Plot the moving average for each company separately\n",
        "for company_name, group in stocks_copy.groupby('Companyname'):\n",
        "    plt.figure(figsize=(10, 6))\n",
        "    plt.plot(group['Date'], group['Moving Avg Adj Close'])\n",
        "    plt.xlabel('Date')\n",
        "    plt.ylabel('Moving Average of Adjusted Close (7-Day Lag)')\n",
        "    plt.title(f'Moving Average of Adjusted Close with 7-Day Lag for {company_name}')\n",
        "    plt.xticks(rotation=45)\n",
        "    plt.grid(True)\n",
        "    plt.tight_layout()\n",
        "    plt.show()"
      ],
      "metadata": {
        "id": "vSjQDAhg6zJC"
      },
      "execution_count": null,
      "outputs": []
    },
    {
      "cell_type": "code",
      "source": [
        "\n",
        "\n",
        "# Sort DataFrame by company name and date\n",
        "stocks_copy.sort_values(by=['Companyname', 'Date'], inplace=True)\n",
        "\n",
        "# Compute the rolling mean with 7 days lag for each company\n",
        "stocks_copy['Moving Avg Open'] = stocks_copy.groupby('Companyname')['Open'].transform(lambda x: x.rolling(window=7).mean())\n",
        "\n",
        "# Plot the moving average for each company separately\n",
        "for company_name, group in stocks_copy.groupby('companCompanynameyname'):\n",
        "    plt.figure(figsize=(10, 6))\n",
        "    plt.plot(group['Date'], group['Moving Avg Open'])\n",
        "    plt.xlabel('Date')\n",
        "    plt.ylabel('Moving Average of Open (7-Day Lag)')\n",
        "    plt.title(f'Moving Average of Open with 7-Day Lag for {company_name}')\n",
        "    plt.xticks(rotation=45)\n",
        "    plt.grid(True)\n",
        "    plt.tight_layout()\n",
        "    plt.show()"
      ],
      "metadata": {
        "id": "-EHrBPV6CoYQ"
      },
      "execution_count": null,
      "outputs": []
    },
    {
      "cell_type": "code",
      "source": [
        "# Drop rows with missing dates\n",
        "stocks_copy.dropna(subset=['Date'], inplace=True)\n",
        "\n",
        "# Sort DataFrame by company name and date\n",
        "stocks_copy.sort_values(by=['companyname', 'Date'], inplace=True)\n",
        "\n",
        "# Filter data for Microsoft\n",
        "microsoft_data = stocks_copy[stocks_copy['companyname'] == 'Microsoft']\n",
        "\n",
        "# Compute the rolling mean with 7 days lag for Microsoft\n",
        "microsoft_data['Moving Avg Open'] = microsoft_data['Open'].rolling(window=7).mean()\n",
        "\n",
        "# Plot the moving average for Microsoft\n",
        "plt.figure(figsize=(10, 6))\n",
        "plt.plot(microsoft_data['Date'], microsoft_data['Moving Avg Open'])\n",
        "plt.xlabel('Date')\n",
        "plt.ylabel('Moving Average of Open (7-Day Lag)')\n",
        "plt.title('Moving Average of Open with 7-Day Lag for Microsoft')\n",
        "plt.xticks(rotation=45)\n",
        "plt.grid(True)\n",
        "plt.tight_layout()\n",
        "plt.show()\n"
      ],
      "metadata": {
        "id": "i5vze6ZkKg2N"
      },
      "execution_count": null,
      "outputs": []
    },
    {
      "cell_type": "code",
      "source": [
        "# Drop rows with missing dates\n",
        "stocks_copy.dropna(subset=['Date'], inplace=True)\n",
        "\n",
        "# Sort DataFrame by company name and date\n",
        "stocks_copy.sort_values(by=['companyname', 'Date'], inplace=True)\n",
        "\n",
        "# Filter data for Microsoft\n",
        "microsoft_data = stocks_copy[stocks_copy['companyname'] == 'Microsoft']\n",
        "\n",
        "# Compute the rolling mean with 7 days lag for Microsoft\n",
        "microsoft_data['Moving Avg Open'] = microsoft_data['Open'].rolling(window=7).mean()\n",
        "\n",
        "# Plot the moving average for Microsoft\n",
        "plt.figure(figsize=(10, 6))\n",
        "plt.plot(microsoft_data['Date'], microsoft_data['Moving Avg Open'])\n",
        "plt.xlabel('Date')\n",
        "plt.ylabel('Moving Average of Open (7-Day Lag)')\n",
        "plt.title('Moving Average of Open with 7-Day Lag for Microsoft')\n",
        "plt.xticks(rotation=45)\n",
        "plt.grid(True)\n",
        "plt.tight_layout()\n",
        "plt.show()\n"
      ],
      "metadata": {
        "id": "8dX6XTm63_EJ"
      },
      "execution_count": null,
      "outputs": []
    },
    {
      "cell_type": "markdown",
      "source": [
        "## **7. Conclusion:**\n",
        "\n",
        "We have implemented multiple models to compare their performance to predict time-series stocks data. The findings so far with the models completed are:\n",
        "\n",
        "a) Random Forest or ensemble models did not perform well with the data.\n",
        "b) LSTM results show low mean square errors and predicted values following the actual values very closely.\n",
        "\n",
        "\n",
        "**Next Steps:**\n",
        "\n",
        "We are working on implementing traditional time series analysis on this data and evaluating the performance. We will next use moving averages, trend and seasonality to run regression time series analysis. We will also try to explore and run Arima model for analyzing this time series."
      ],
      "metadata": {
        "id": "16Jt-KTyP9C5"
      }
    }
  ]
}